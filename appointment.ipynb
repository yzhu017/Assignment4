{
 "cells": [
  {
   "cell_type": "code",
   "execution_count": 1,
   "metadata": {},
   "outputs": [],
   "source": [
    "import findspark\n",
    "findspark.init('/home/user/spark-2.1.1-bin-hadoop2.7')\n",
    "import pyspark\n",
    "from pyspark.sql import SparkSession\n",
    "spark = SparkSession.builder.appName('appointment').getOrCreate()\n"
   ]
  },
  {
   "cell_type": "code",
   "execution_count": 12,
   "metadata": {},
   "outputs": [
    {
     "name": "stdout",
     "output_type": "stream",
     "text": [
      "+-------------------+-------------+------+--------------------+--------------------+---+-----------------+-----------+------------+--------+----------+-------+------------+-------+\n",
      "|          PatientId|AppointmentID|Gender|        ScheduledDay|      AppointmentDay|Age|    Neighbourhood|Scholarship|Hipertension|Diabetes|Alcoholism|Handcap|SMS_received|No-show|\n",
      "+-------------------+-------------+------+--------------------+--------------------+---+-----------------+-----------+------------+--------+----------+-------+------------+-------+\n",
      "| 2.9872499824296E13|      5642903|     F|2016-04-30 06:38:...|2016-04-29 12:00:...| 62|  JARDIM DA PENHA|          0|           1|       0|         0|      0|           0|     No|\n",
      "|5.58997776694438E14|      5642503|     M|2016-04-30 04:08:...|2016-04-29 12:00:...| 56|  JARDIM DA PENHA|          0|           0|       0|         0|      0|           0|     No|\n",
      "|  4.262962299951E12|      5642549|     F|2016-04-30 04:19:...|2016-04-29 12:00:...| 62|    MATA DA PRAIA|          0|           0|       0|         0|      0|           0|     No|\n",
      "|   8.67951213174E11|      5642828|     F|2016-04-30 05:29:...|2016-04-29 12:00:...|  8|PONTAL DE CAMBURI|          0|           0|       0|         0|      0|           0|     No|\n",
      "|  8.841186448183E12|      5642494|     F|2016-04-30 04:07:...|2016-04-29 12:00:...| 56|  JARDIM DA PENHA|          0|           1|       1|         0|      0|           0|     No|\n",
      "| 9.5985133231274E13|      5626772|     F|2016-04-27 20:36:...|2016-04-29 12:00:...| 76|        REPÚBLICA|          0|           1|       0|         0|      0|           0|     No|\n",
      "|7.33688164476661E14|      5630279|     F|2016-04-28 03:05:...|2016-04-29 12:00:...| 23|       GOIABEIRAS|          0|           0|       0|         0|      0|           0|    Yes|\n",
      "|  3.449833394123E12|      5630575|     F|2016-04-28 03:39:...|2016-04-29 12:00:...| 39|       GOIABEIRAS|          0|           0|       0|         0|      0|           0|    Yes|\n",
      "| 5.6394729949972E13|      5638447|     F|2016-04-29 20:02:...|2016-04-29 12:00:...| 21|       ANDORINHAS|          0|           0|       0|         0|      0|           0|     No|\n",
      "| 7.8124564369297E13|      5629123|     F|2016-04-28 00:48:...|2016-04-29 12:00:...| 19|        CONQUISTA|          0|           0|       0|         0|      0|           0|     No|\n",
      "|7.34536231958495E14|      5630213|     F|2016-04-28 02:58:...|2016-04-29 12:00:...| 30|   NOVA PALESTINA|          0|           0|       0|         0|      0|           0|     No|\n",
      "|  7.542951368435E12|      5620163|     M|2016-04-26 20:44:...|2016-04-29 12:00:...| 29|   NOVA PALESTINA|          0|           0|       0|         0|      0|           1|    Yes|\n",
      "|5.66654781423437E14|      5634718|     F|2016-04-28 23:33:...|2016-04-29 12:00:...| 22|   NOVA PALESTINA|          1|           0|       0|         0|      0|           0|     No|\n",
      "|9.11394617215919E14|      5636249|     M|2016-04-29 02:52:...|2016-04-29 12:00:...| 28|   NOVA PALESTINA|          0|           0|       0|         0|      0|           0|     No|\n",
      "| 9.9884723334928E13|      5633951|     F|2016-04-28 22:06:...|2016-04-29 12:00:...| 54|   NOVA PALESTINA|          0|           0|       0|         0|      0|           0|     No|\n",
      "|    9.9948393975E10|      5620206|     F|2016-04-26 20:47:...|2016-04-29 12:00:...| 15|   NOVA PALESTINA|          0|           0|       0|         0|      0|           1|     No|\n",
      "| 8.4574392942817E13|      5633121|     M|2016-04-28 20:51:...|2016-04-29 12:00:...| 50|   NOVA PALESTINA|          0|           0|       0|         0|      0|           0|     No|\n",
      "| 1.4794966191172E13|      5633460|     F|2016-04-28 21:28:...|2016-04-29 12:00:...| 40|        CONQUISTA|          1|           0|       0|         0|      0|           0|    Yes|\n",
      "| 1.7135378245248E13|      5621836|     F|2016-04-26 22:54:...|2016-04-29 12:00:...| 30|   NOVA PALESTINA|          1|           0|       0|         0|      0|           1|     No|\n",
      "|  7.223289184215E12|      5640433|     F|2016-04-29 22:43:...|2016-04-29 12:00:...| 46|         DA PENHA|          0|           0|       0|         0|      0|           0|     No|\n",
      "+-------------------+-------------+------+--------------------+--------------------+---+-----------------+-----------+------------+--------+----------+-------+------------+-------+\n",
      "only showing top 20 rows\n",
      "\n"
     ]
    }
   ],
   "source": [
    "df = spark.read.csv('MedicalAppointment.csv',header=True,inferSchema=True)\n",
    "df.show()"
   ]
  },
  {
   "cell_type": "code",
   "execution_count": 23,
   "metadata": {},
   "outputs": [
    {
     "name": "stdout",
     "output_type": "stream",
     "text": [
      "root\n",
      " |-- PatientId: double (nullable = true)\n",
      " |-- AppointmentID: integer (nullable = true)\n",
      " |-- Gender: string (nullable = true)\n",
      " |-- ScheduledDay: timestamp (nullable = true)\n",
      " |-- AppointmentDay: timestamp (nullable = true)\n",
      " |-- Age: integer (nullable = true)\n",
      " |-- Neighbourhood: string (nullable = true)\n",
      " |-- Scholarship: integer (nullable = true)\n",
      " |-- Hipertension: integer (nullable = true)\n",
      " |-- Diabetes: integer (nullable = true)\n",
      " |-- Alcoholism: integer (nullable = true)\n",
      " |-- Handcap: integer (nullable = true)\n",
      " |-- SMS_received: integer (nullable = true)\n",
      " |-- No-show: string (nullable = true)\n",
      "\n"
     ]
    }
   ],
   "source": [
    "df.printSchema()\n",
    "#print(df.head(1))"
   ]
  },
  {
   "cell_type": "code",
   "execution_count": 28,
   "metadata": {},
   "outputs": [],
   "source": [
    "import pandas as pd\n",
    "import numpy as np\n",
    "import matplotlib.pyplot as plt\n",
    "%matplotlib inline"
   ]
  },
  {
   "cell_type": "code",
   "execution_count": 39,
   "metadata": {},
   "outputs": [
    {
     "data": {
      "text/plain": [
       "<matplotlib.axes._subplots.AxesSubplot at 0x7f5f4b90fd30>"
      ]
     },
     "execution_count": 39,
     "metadata": {},
     "output_type": "execute_result"
    },
    {
     "data": {
      "image/png": "[encoded data removed]",
      "text/plain": [
       "<Figure size 432x288 with 1 Axes>"
      ]
     },
     "metadata": {},
     "output_type": "display_data"
    }
   ],
   "source": [
    "df1 = pd.read_csv('MedicalAppointment.csv')\n",
    "df1.boxplot(column = 'Age', by = 'No-show')"
   ]
  },
  {
   "cell_type": "code",
   "execution_count": 40,
   "metadata": {},
   "outputs": [
    {
     "data": {
      "text/plain": [
       "<matplotlib.axes._subplots.AxesSubplot at 0x7f5f49d33208>"
      ]
     },
     "execution_count": 40,
     "metadata": {},
     "output_type": "execute_result"
    },
    {
     "data": {
      "image/png": "[encoded data removed]",
      "text/plain": [
       "<Figure size 432x288 with 1 Axes>"
      ]
     },
     "metadata": {},
     "output_type": "display_data"
    }
   ],
   "source": [
    "df1['Age'].hist(bins=120)"
   ]
  },
  {
   "cell_type": "code",
   "execution_count": 55,
   "metadata": {},
   "outputs": [
    {
     "data": {
      "text/plain": [
       "<matplotlib.axes._subplots.AxesSubplot at 0x7f5f4a3b4390>"
      ]
     },
     "execution_count": 55,
     "metadata": {},
     "output_type": "execute_result"
    },
    {
     "data": {
      "image/png": "[encoded data removed]",
      "text/plain": [
       "<Figure size 432x288 with 1 Axes>"
      ]
     },
     "metadata": {},
     "output_type": "display_data"
    }
   ],
   "source": [
    "temp1 = df1['No-show'].value_counts()\n",
    "temp1.plot(kind = 'bar')"
   ]
  },
  {
   "cell_type": "code",
   "execution_count": 50,
   "metadata": {},
   "outputs": [
    {
     "data": {
      "text/plain": [
       "No     88208\n",
       "Yes    22319\n",
       "Name: No-show, dtype: int64"
      ]
     },
     "execution_count": 50,
     "metadata": {},
     "output_type": "execute_result"
    }
   ],
   "source": [
    "df1['No-show'].value_counts()"
   ]
  },
  {
   "cell_type": "code",
   "execution_count": 61,
   "metadata": {},
   "outputs": [
    {
     "data": {
      "text/plain": [
       "<matplotlib.axes._subplots.AxesSubplot at 0x7f5f477c13c8>"
      ]
     },
     "execution_count": 61,
     "metadata": {},
     "output_type": "execute_result"
    },
    {
     "data": {
      "image/png": "[encoded data removed]",
      "text/plain": [
       "<Figure size 432x288 with 1 Axes>"
      ]
     },
     "metadata": {},
     "output_type": "display_data"
    }
   ],
   "source": [
    "\n",
    "temp1=pd.crosstab(df1['Gender'],df1['No-show'])\n",
    "temp1.plot(kind='bar', stacked=True)"
   ]
  },
  {
   "cell_type": "code",
   "execution_count": null,
   "metadata": {},
   "outputs": [],
   "source": []
  }
 ],
 "metadata": {
  "kernelspec": {
   "display_name": "Python 3",
   "language": "python",
   "name": "python3"
  },
  "language_info": {
   "codemirror_mode": {
    "name": "ipython",
    "version": 3
   },
   "file_extension": ".py",
   "mimetype": "text/x-python",
   "name": "python",
   "nbconvert_exporter": "python",
   "pygments_lexer": "ipython3",
   "version": "3.6.5"
  }
 },
 "nbformat": 4,
 "nbformat_minor": 2
}
